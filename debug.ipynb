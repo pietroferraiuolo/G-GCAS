{
 "cells": [
  {
   "cell_type": "code",
   "execution_count": 1,
   "metadata": {},
   "outputs": [
    {
     "name": "stdout",
     "output_type": "stream",
     "text": [
      "Initialized with Gaia table: 'gaiadr3.gaia_source'\n",
      "\n",
      "GAIA - GLOBULAR CLUSTERS ANALYSIS SOFTWARE\n",
      "            ..............\n",
      "         ..:;;..:;;;;;:::::;;\n",
      "       ;;;;;;::.::;;;;;;;;;;;;;\n",
      "      ;;;;.:;;;..;XXXXXX.::....:\n",
      "     :;::;::..+XXXXXXXXX+:;;;;;;:\n",
      "    ;::;:.:;;:XXXXXXXXXXX::::::::;        __ _  __ _(_) __ _\n",
      "    .;;..;;;:.:XXXXXXXXX$$$$$$$$$$X.     / _` |/ _` | |/ _` |\n",
      "    :;..:;;;..:xXXXXXXX$$$$$$$$$$$$X    | (_| | (_| | | (_| |\n",
      "    :;:.:;;.XXXXXXXXX$$$$$$$$$$$$$$;     \\__, |\\__,_|_|\\__,_|\n",
      "    .;;:.:X$$$$$$$$$$$$$$$$$$$$$$X.      |___/\n",
      "    ..:;:$$$$$$$$$$$$$$$$$$$$$$X;.\n",
      "     :;;;$$$$$$$$$$$$$$$$$$$$::;;\n",
      "      ...;$$$$$$$$$$$$$$x;:;;;;;\n",
      "        ......:;:....;;;;;;;:.\n",
      "         ::::::::::;;;::...\n",
      "\n",
      "             INITIALIZED\n",
      "\n",
      "\n"
     ]
    }
   ],
   "source": [
    "import os\n",
    "import ggcas\n",
    "import numpy as np\n",
    "import pandas as pd\n",
    "import seaborn as sns\n",
    "import matplotlib.pyplot as plt\n",
    "%matplotlib inline"
   ]
  },
  {
   "cell_type": "code",
   "execution_count": 3,
   "metadata": {},
   "outputs": [
    {
     "name": "stdout",
     "output_type": "stream",
     "text": [
      "[pi/4, -pi/4, 3*pi/4, -3*pi/4]\n"
     ]
    }
   ],
   "source": [
    "import sympy as sp\n",
    "\n",
    "# Define symbolic variables\n",
    "x_sym, y_sym = sp.symbols('x y')\n",
    "\n",
    "# Define the symbolic expression for arctan2\n",
    "angles_sym = sp.atan2(y_sym, x_sym)\n",
    "\n",
    "# Substitute the values of x and y into the symbolic expression\n",
    "x_values = [1, 1, -1, -1]\n",
    "y_values = [1, -1, 1, -1]\n",
    "angles_sym_values = [angles_sym.subs({x_sym: x_val, y_sym: y_val}) for x_val, y_val in zip(x_values, y_values)]\n",
    "\n",
    "print(angles_sym_values)"
   ]
  },
  {
   "cell_type": "code",
   "execution_count": null,
   "metadata": {},
   "outputs": [],
   "source": []
  },
  {
   "cell_type": "code",
   "execution_count": null,
   "metadata": {},
   "outputs": [],
   "source": [
    "data = np.random.normal(0, 1, 400000)\n",
    "ggcas.plots.histogram(data, kde=True)"
   ]
  },
  {
   "cell_type": "code",
   "execution_count": null,
   "metadata": {},
   "outputs": [],
   "source": [
    "from rpy2.robjects import (\n",
    "    pandas2ri as pd2r,\n",
    "    numpy2ri as np2r,\n",
    "    r as R,\n",
    "    globalenv as genv\n",
    ")\n",
    "np2r.activate()\n",
    "regression_code=\"C:\\\\Users\\\\pietr\\\\Documents\\\\GitHub\\\\G-GCAS\\\\ggcas\\\\analyzers\\\\_Rcode\\\\regression.R\"\n",
    "R(f\"source('{regression_code}')\")\n",
    "reg_func = genv[\"regression\"]\n",
    "r_data = np2r.numpy2rpy(data)\n",
    "r_result = reg_func(r_data, method='gaussian')\n",
    "x_kde = np.array(r_result.rx2('x'))\n",
    "y_kde = np.array(r_result.rx2('y'))\n",
    "coeffs = np.array(r_result.rx2('coeffs'))\n",
    " # C:\\Users\\pietr\\Documents\\GitHub\\G-GCAS\\ggcas\\analyzers\\_Rcode\\regression.R"
   ]
  },
  {
   "cell_type": "code",
   "execution_count": null,
   "metadata": {},
   "outputs": [],
   "source": []
  }
 ],
 "metadata": {
  "kernelspec": {
   "display_name": "Python 3",
   "language": "python",
   "name": "python3"
  },
  "language_info": {
   "codemirror_mode": {
    "name": "ipython",
    "version": 3
   },
   "file_extension": ".py",
   "mimetype": "text/x-python",
   "name": "python",
   "nbconvert_exporter": "python",
   "pygments_lexer": "ipython3",
   "version": "3.12.7"
  }
 },
 "nbformat": 4,
 "nbformat_minor": 2
}
