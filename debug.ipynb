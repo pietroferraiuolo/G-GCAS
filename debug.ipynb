{
 "cells": [
  {
   "cell_type": "code",
   "execution_count": null,
   "metadata": {},
   "outputs": [],
   "source": [
    "import os\n",
    "import ggcas\n",
    "import numpy as np\n",
    "import pandas as pd\n",
    "import seaborn as sns\n",
    "import matplotlib.pyplot as plt\n",
    "%matplotlib inline"
   ]
  },
  {
   "cell_type": "code",
   "execution_count": null,
   "metadata": {},
   "outputs": [],
   "source": [
    "data = np.random.normal(0, 1, 400000)\n",
    "ggcas.plots.histogram(data, kde=True)"
   ]
  },
  {
   "cell_type": "code",
   "execution_count": null,
   "metadata": {},
   "outputs": [],
   "source": [
    "from rpy2.robjects import (\n",
    "    pandas2ri as pd2r,\n",
    "    numpy2ri as np2r,\n",
    "    r as R,\n",
    "    globalenv as genv\n",
    ")\n",
    "np2r.activate()\n",
    "regression_code=\"C:\\\\Users\\\\pietr\\\\Documents\\\\GitHub\\\\G-GCAS\\\\ggcas\\\\analyzers\\\\_Rcode\\\\regression.R\"\n",
    "R(f\"source('{regression_code}')\")\n",
    "reg_func = genv[\"regression\"]\n",
    "r_data = np2r.numpy2rpy(data)\n",
    "r_result = reg_func(r_data, method='gaussian')\n",
    "x_kde = np.array(r_result.rx2('x'))\n",
    "y_kde = np.array(r_result.rx2('y'))\n",
    "coeffs = np.array(r_result.rx2('coeffs'))\n",
    " # C:\\Users\\pietr\\Documents\\GitHub\\G-GCAS\\ggcas\\analyzers\\_Rcode\\regression.R"
   ]
  },
  {
   "cell_type": "code",
   "execution_count": null,
   "metadata": {},
   "outputs": [],
   "source": []
  }
 ],
 "metadata": {
  "kernelspec": {
   "display_name": "Python 3",
   "language": "python",
   "name": "python3"
  },
  "language_info": {
   "codemirror_mode": {
    "name": "ipython",
    "version": 3
   },
   "file_extension": ".py",
   "mimetype": "text/x-python",
   "name": "python",
   "nbconvert_exporter": "python",
   "pygments_lexer": "ipython3",
   "version": "3.12.7"
  }
 },
 "nbformat": 4,
 "nbformat_minor": 2
}
