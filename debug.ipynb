{
 "cells": [
  {
   "cell_type": "code",
   "execution_count": 1,
   "metadata": {},
   "outputs": [
    {
     "name": "stdout",
     "output_type": "stream",
     "text": [
      "Initialized with Gaia table: 'gaiadr3.gaia_source'\n",
      "\n",
      "\n",
      "GAIA - GLOBULAR CLUSTERS ANALYSIS SOFTWARE\n",
      "            ..............\n",
      "         ..:;;..:;;;;;:::::;;\n",
      "       ;;;;;;::.::;;;;;;;;;;;;;\n",
      "      ;;;;.:;;;..;XXXXXX.::....:\n",
      "     :;::;::..+XXXXXXXXX+:;;;;;;:\n",
      "    ;::;:.:;;:XXXXXXXXXXX::::::::;        __ _  __ _(_) __ _\n",
      "    .;;..;;;:.:XXXXXXXXX$$$$$$$$$$X.     / _` |/ _` | |/ _` |\n",
      "    :;..:;;;..:xXXXXXXX$$$$$$$$$$$$X    | (_| | (_| | | (_| |\n",
      "    :;:.:;;.XXXXXXXXX$$$$$$$$$$$$$$;     \\__, |\\__,_|_|\\__,_|\n",
      "    .;;:.:X$$$$$$$$$$$$$$$$$$$$$$X.      |___/\n",
      "    ..:;:$$$$$$$$$$$$$$$$$$$$$$X;.\n",
      "     :;;;$$$$$$$$$$$$$$$$$$$$::;;\n",
      "      ...;$$$$$$$$$$$$$$x;:;;;;;\n",
      "        ......:;:....;;;;;;;:.\n",
      "         ::::::::::;;;::...\n",
      "\n",
      "             INITIALIZED\n",
      "\n",
      "\n"
     ]
    }
   ],
   "source": [
    "runfile('/home/pietrof/git/G-GCAS/ggcas/initGGCAS.py')\n",
    "import seaborn as sns\n",
    "import matplotlib.pyplot as plt\n",
    "%matplotlib inline"
   ]
  },
  {
   "cell_type": "code",
   "execution_count": 2,
   "metadata": {},
   "outputs": [
    {
     "name": "stdout",
     "output_type": "stream",
     "text": [
      "INFO: Query finished. [astroquery.utils.tap.core]\n",
      "Sample number of sources: 20062\n"
     ]
    }
   ],
   "source": [
    "ngc6121 = dr3.get_astrometry(0.1, gc='ngc6121')\n",
    "ngc6121.to_pandas(overwrite=True, index='SOURCE_ID')\n",
    "ngc6121.sample.dropna(inplace=True)"
   ]
  },
  {
   "cell_type": "code",
   "execution_count": 3,
   "metadata": {},
   "outputs": [
    {
     "data": {
      "text/html": [
       "<div>\n",
       "<style scoped>\n",
       "    .dataframe tbody tr th:only-of-type {\n",
       "        vertical-align: middle;\n",
       "    }\n",
       "\n",
       "    .dataframe tbody tr th {\n",
       "        vertical-align: top;\n",
       "    }\n",
       "\n",
       "    .dataframe thead th {\n",
       "        text-align: right;\n",
       "    }\n",
       "</style>\n",
       "<table border=\"1\" class=\"dataframe\">\n",
       "  <thead>\n",
       "    <tr style=\"text-align: right;\">\n",
       "      <th></th>\n",
       "      <th>ra</th>\n",
       "      <th>ra_error</th>\n",
       "      <th>dec</th>\n",
       "      <th>dec_error</th>\n",
       "      <th>parallax</th>\n",
       "      <th>parallax_error</th>\n",
       "      <th>pmra</th>\n",
       "      <th>pmra_error</th>\n",
       "      <th>pmdec</th>\n",
       "      <th>pmdec_error</th>\n",
       "    </tr>\n",
       "    <tr>\n",
       "      <th>SOURCE_ID</th>\n",
       "      <th></th>\n",
       "      <th></th>\n",
       "      <th></th>\n",
       "      <th></th>\n",
       "      <th></th>\n",
       "      <th></th>\n",
       "      <th></th>\n",
       "      <th></th>\n",
       "      <th></th>\n",
       "      <th></th>\n",
       "    </tr>\n",
       "  </thead>\n",
       "  <tbody>\n",
       "    <tr>\n",
       "      <th>6045465540585768320</th>\n",
       "      <td>245.958622</td>\n",
       "      <td>1.311131</td>\n",
       "      <td>-26.515028</td>\n",
       "      <td>0.863623</td>\n",
       "      <td>0.136671</td>\n",
       "      <td>1.411395</td>\n",
       "      <td>-12.283603</td>\n",
       "      <td>2.071098</td>\n",
       "      <td>-17.439522</td>\n",
       "      <td>1.850242</td>\n",
       "    </tr>\n",
       "    <tr>\n",
       "      <th>6045465540583888640</th>\n",
       "      <td>245.961411</td>\n",
       "      <td>0.432379</td>\n",
       "      <td>-26.506407</td>\n",
       "      <td>0.222562</td>\n",
       "      <td>-0.204317</td>\n",
       "      <td>0.450473</td>\n",
       "      <td>-10.937037</td>\n",
       "      <td>0.690123</td>\n",
       "      <td>-18.823906</td>\n",
       "      <td>0.413798</td>\n",
       "    </tr>\n",
       "    <tr>\n",
       "      <th>6045465540583888768</th>\n",
       "      <td>245.961538</td>\n",
       "      <td>0.272752</td>\n",
       "      <td>-26.506683</td>\n",
       "      <td>0.158406</td>\n",
       "      <td>0.807585</td>\n",
       "      <td>0.286590</td>\n",
       "      <td>-12.075080</td>\n",
       "      <td>0.428756</td>\n",
       "      <td>-19.860777</td>\n",
       "      <td>0.289603</td>\n",
       "    </tr>\n",
       "    <tr>\n",
       "      <th>6045465540585358720</th>\n",
       "      <td>245.962585</td>\n",
       "      <td>0.161342</td>\n",
       "      <td>-26.525861</td>\n",
       "      <td>0.096194</td>\n",
       "      <td>0.597685</td>\n",
       "      <td>0.178331</td>\n",
       "      <td>-12.631369</td>\n",
       "      <td>0.241221</td>\n",
       "      <td>-18.622572</td>\n",
       "      <td>0.167933</td>\n",
       "    </tr>\n",
       "    <tr>\n",
       "      <th>6045465540585364736</th>\n",
       "      <td>245.959195</td>\n",
       "      <td>0.221089</td>\n",
       "      <td>-26.522479</td>\n",
       "      <td>0.143999</td>\n",
       "      <td>0.256526</td>\n",
       "      <td>0.234203</td>\n",
       "      <td>-11.599773</td>\n",
       "      <td>0.323069</td>\n",
       "      <td>-18.961183</td>\n",
       "      <td>0.251987</td>\n",
       "    </tr>\n",
       "  </tbody>\n",
       "</table>\n",
       "</div>"
      ],
      "text/plain": [
       "                             ra  ra_error        dec  dec_error  parallax  \\\n",
       "SOURCE_ID                                                                   \n",
       "6045465540585768320  245.958622  1.311131 -26.515028   0.863623  0.136671   \n",
       "6045465540583888640  245.961411  0.432379 -26.506407   0.222562 -0.204317   \n",
       "6045465540583888768  245.961538  0.272752 -26.506683   0.158406  0.807585   \n",
       "6045465540585358720  245.962585  0.161342 -26.525861   0.096194  0.597685   \n",
       "6045465540585364736  245.959195  0.221089 -26.522479   0.143999  0.256526   \n",
       "\n",
       "                     parallax_error       pmra  pmra_error      pmdec  \\\n",
       "SOURCE_ID                                                               \n",
       "6045465540585768320        1.411395 -12.283603    2.071098 -17.439522   \n",
       "6045465540583888640        0.450473 -10.937037    0.690123 -18.823906   \n",
       "6045465540583888768        0.286590 -12.075080    0.428756 -19.860777   \n",
       "6045465540585358720        0.178331 -12.631369    0.241221 -18.622572   \n",
       "6045465540585364736        0.234203 -11.599773    0.323069 -18.961183   \n",
       "\n",
       "                     pmdec_error  \n",
       "SOURCE_ID                         \n",
       "6045465540585768320     1.850242  \n",
       "6045465540583888640     0.413798  \n",
       "6045465540583888768     0.289603  \n",
       "6045465540585358720     0.167933  \n",
       "6045465540585364736     0.251987  "
      ]
     },
     "execution_count": 3,
     "metadata": {},
     "output_type": "execute_result"
    }
   ],
   "source": [
    "ngc6121.sample.head()"
   ]
  },
  {
   "cell_type": "code",
   "execution_count": 5,
   "metadata": {},
   "outputs": [
    {
     "data": {
      "text/plain": [
       "<seaborn.axisgrid.FacetGrid at 0x7f03019f8990>"
      ]
     },
     "execution_count": 5,
     "metadata": {},
     "output_type": "execute_result"
    },
    {
     "data": {
      "image/png": "[encoded data removed]",
      "text/plain": [
       "<Figure size 500x500 with 1 Axes>"
      ]
     },
     "metadata": {},
     "output_type": "display_data"
    }
   ],
   "source": [
    "sns.displot(x='parallax',data=ngc6121.sample, kde=True)"
   ]
  },
  {
   "cell_type": "code",
   "execution_count": null,
   "metadata": {},
   "outputs": [],
   "source": []
  },
  {
   "cell_type": "code",
   "execution_count": 14,
   "metadata": {},
   "outputs": [],
   "source": []
  },
  {
   "cell_type": "code",
   "execution_count": null,
   "metadata": {},
   "outputs": [],
   "source": []
  }
 ],
 "metadata": {
  "kernelspec": {
   "display_name": "base",
   "language": "python",
   "name": "python3"
  },
  "language_info": {
   "codemirror_mode": {
    "name": "ipython",
    "version": 3
   },
   "file_extension": ".py",
   "mimetype": "text/x-python",
   "name": "python",
   "nbconvert_exporter": "python",
   "pygments_lexer": "ipython3",
   "version": "3.11.9"
  }
 },
 "nbformat": 4,
 "nbformat_minor": 2
}
